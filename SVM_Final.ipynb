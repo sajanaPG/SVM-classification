{
 "cells": [
  {
   "cell_type": "markdown",
   "id": "b4d6dc9c",
   "metadata": {},
   "source": [
    "## SVM_Binary_Classification "
   ]
  },
  {
   "cell_type": "code",
   "execution_count": 1,
   "id": "d0a0c8f7",
   "metadata": {},
   "outputs": [],
   "source": [
    "from sklearn import svm\n",
    "from sklearn.model_selection import train_test_split\n",
    "import matplotlib.pyplot as plt # for plotting data and creating different charts.\n",
    "import numpy as np # for math and arrays\n",
    "import pandas as pd # data from for the data.\n",
    "import seaborn as sns # for plotting.\n",
    "from sklearn import metrics\n",
    "import plotly.graph_objects as go #for plotting interactive 3d plots"
   ]
  },
  {
   "cell_type": "code",
   "execution_count": 2,
   "id": "a84b2bdb",
   "metadata": {},
   "outputs": [
    {
     "data": {
      "text/html": [
       "<div>\n",
       "<style scoped>\n",
       "    .dataframe tbody tr th:only-of-type {\n",
       "        vertical-align: middle;\n",
       "    }\n",
       "\n",
       "    .dataframe tbody tr th {\n",
       "        vertical-align: top;\n",
       "    }\n",
       "\n",
       "    .dataframe thead th {\n",
       "        text-align: right;\n",
       "    }\n",
       "</style>\n",
       "<table border=\"1\" class=\"dataframe\">\n",
       "  <thead>\n",
       "    <tr style=\"text-align: right;\">\n",
       "      <th></th>\n",
       "      <th>Speed</th>\n",
       "      <th>Acceleration</th>\n",
       "      <th>Heading</th>\n",
       "      <th>Label</th>\n",
       "    </tr>\n",
       "  </thead>\n",
       "  <tbody>\n",
       "    <tr>\n",
       "      <th>0</th>\n",
       "      <td>19.959</td>\n",
       "      <td>0.3106</td>\n",
       "      <td>18.1086</td>\n",
       "      <td>0</td>\n",
       "    </tr>\n",
       "    <tr>\n",
       "      <th>1</th>\n",
       "      <td>0.862</td>\n",
       "      <td>2.2246</td>\n",
       "      <td>22.9378</td>\n",
       "      <td>0</td>\n",
       "    </tr>\n",
       "    <tr>\n",
       "      <th>2</th>\n",
       "      <td>7.188</td>\n",
       "      <td>0.8857</td>\n",
       "      <td>1.1095</td>\n",
       "      <td>0</td>\n",
       "    </tr>\n",
       "    <tr>\n",
       "      <th>3</th>\n",
       "      <td>23.404</td>\n",
       "      <td>0.0130</td>\n",
       "      <td>2.0083</td>\n",
       "      <td>0</td>\n",
       "    </tr>\n",
       "    <tr>\n",
       "      <th>4</th>\n",
       "      <td>14.895</td>\n",
       "      <td>-1.9161</td>\n",
       "      <td>7.9068</td>\n",
       "      <td>0</td>\n",
       "    </tr>\n",
       "    <tr>\n",
       "      <th>...</th>\n",
       "      <td>...</td>\n",
       "      <td>...</td>\n",
       "      <td>...</td>\n",
       "      <td>...</td>\n",
       "    </tr>\n",
       "    <tr>\n",
       "      <th>93615</th>\n",
       "      <td>28.542</td>\n",
       "      <td>1.3338</td>\n",
       "      <td>32.6381</td>\n",
       "      <td>0</td>\n",
       "    </tr>\n",
       "    <tr>\n",
       "      <th>93616</th>\n",
       "      <td>30.939</td>\n",
       "      <td>0.0198</td>\n",
       "      <td>13.0109</td>\n",
       "      <td>0</td>\n",
       "    </tr>\n",
       "    <tr>\n",
       "      <th>93617</th>\n",
       "      <td>25.095</td>\n",
       "      <td>2.2639</td>\n",
       "      <td>16.3054</td>\n",
       "      <td>0</td>\n",
       "    </tr>\n",
       "    <tr>\n",
       "      <th>93618</th>\n",
       "      <td>18.596</td>\n",
       "      <td>1.3457</td>\n",
       "      <td>6.6983</td>\n",
       "      <td>0</td>\n",
       "    </tr>\n",
       "    <tr>\n",
       "      <th>93619</th>\n",
       "      <td>34.964</td>\n",
       "      <td>1.9843</td>\n",
       "      <td>26.2110</td>\n",
       "      <td>0</td>\n",
       "    </tr>\n",
       "  </tbody>\n",
       "</table>\n",
       "<p>93620 rows × 4 columns</p>\n",
       "</div>"
      ],
      "text/plain": [
       "        Speed  Acceleration  Heading  Label\n",
       "0      19.959        0.3106  18.1086      0\n",
       "1       0.862        2.2246  22.9378      0\n",
       "2       7.188        0.8857   1.1095      0\n",
       "3      23.404        0.0130   2.0083      0\n",
       "4      14.895       -1.9161   7.9068      0\n",
       "...       ...           ...      ...    ...\n",
       "93615  28.542        1.3338  32.6381      0\n",
       "93616  30.939        0.0198  13.0109      0\n",
       "93617  25.095        2.2639  16.3054      0\n",
       "93618  18.596        1.3457   6.6983      0\n",
       "93619  34.964        1.9843  26.2110      0\n",
       "\n",
       "[93620 rows x 4 columns]"
      ]
     },
     "execution_count": 2,
     "metadata": {},
     "output_type": "execute_result"
    }
   ],
   "source": [
    "df = pd.read_csv(\"My Labelled Data.csv\")\n",
    "df"
   ]
  },
  {
   "cell_type": "code",
   "execution_count": 36,
   "id": "dfa8e96c",
   "metadata": {},
   "outputs": [
    {
     "name": "stdout",
     "output_type": "stream",
     "text": [
      "Index(['Speed', 'Acceleration', 'Heading', 'Label'], dtype='object')\n"
     ]
    }
   ],
   "source": [
    "print(df.columns)"
   ]
  },
  {
   "cell_type": "code",
   "execution_count": 4,
   "id": "b5f5ab36",
   "metadata": {},
   "outputs": [
    {
     "name": "stdout",
     "output_type": "stream",
     "text": [
      "Number of rows/examples and columns in the dataset: (93620, 4)\n"
     ]
    }
   ],
   "source": [
    "print(f'Number of rows/examples and columns in the dataset: {df.shape}')"
   ]
  },
  {
   "cell_type": "code",
   "execution_count": 5,
   "id": "9571fa74",
   "metadata": {},
   "outputs": [
    {
     "name": "stdout",
     "output_type": "stream",
     "text": [
      "<class 'pandas.core.frame.DataFrame'>\n",
      "RangeIndex: 93620 entries, 0 to 93619\n",
      "Data columns (total 4 columns):\n",
      " #   Column        Non-Null Count  Dtype  \n",
      "---  ------        --------------  -----  \n",
      " 0   Speed         93620 non-null  float64\n",
      " 1   Acceleration  93620 non-null  float64\n",
      " 2   Heading       93620 non-null  float64\n",
      " 3   Label         93620 non-null  int64  \n",
      "dtypes: float64(3), int64(1)\n",
      "memory usage: 2.9 MB\n"
     ]
    }
   ],
   "source": [
    "# Summary of information on the dataset.\n",
    "df.info()"
   ]
  },
  {
   "cell_type": "code",
   "execution_count": 6,
   "id": "19fd197b",
   "metadata": {},
   "outputs": [
    {
     "data": {
      "text/html": [
       "<div>\n",
       "<style scoped>\n",
       "    .dataframe tbody tr th:only-of-type {\n",
       "        vertical-align: middle;\n",
       "    }\n",
       "\n",
       "    .dataframe tbody tr th {\n",
       "        vertical-align: top;\n",
       "    }\n",
       "\n",
       "    .dataframe thead th {\n",
       "        text-align: right;\n",
       "    }\n",
       "</style>\n",
       "<table border=\"1\" class=\"dataframe\">\n",
       "  <thead>\n",
       "    <tr style=\"text-align: right;\">\n",
       "      <th></th>\n",
       "      <th>Acceleration</th>\n",
       "      <th>Speed</th>\n",
       "      <th>Heading</th>\n",
       "    </tr>\n",
       "  </thead>\n",
       "  <tbody>\n",
       "    <tr>\n",
       "      <th>Acceleration</th>\n",
       "      <td>1.000000</td>\n",
       "      <td>-0.050897</td>\n",
       "      <td>-0.100277</td>\n",
       "    </tr>\n",
       "    <tr>\n",
       "      <th>Speed</th>\n",
       "      <td>-0.050897</td>\n",
       "      <td>1.000000</td>\n",
       "      <td>0.291908</td>\n",
       "    </tr>\n",
       "    <tr>\n",
       "      <th>Heading</th>\n",
       "      <td>-0.100277</td>\n",
       "      <td>0.291908</td>\n",
       "      <td>1.000000</td>\n",
       "    </tr>\n",
       "  </tbody>\n",
       "</table>\n",
       "</div>"
      ],
      "text/plain": [
       "              Acceleration     Speed   Heading\n",
       "Acceleration      1.000000 -0.050897 -0.100277\n",
       "Speed            -0.050897  1.000000  0.291908\n",
       "Heading          -0.100277  0.291908  1.000000"
      ]
     },
     "execution_count": 6,
     "metadata": {},
     "output_type": "execute_result"
    }
   ],
   "source": [
    "# Observe correlation between Acceleration, Speed and Heading\n",
    "\n",
    "df[[\"Acceleration\", \"Speed\", \"Heading\"]].corr()"
   ]
  },
  {
   "cell_type": "markdown",
   "id": "9940262e",
   "metadata": {},
   "source": [
    "### Cleaning the data"
   ]
  },
  {
   "cell_type": "code",
   "execution_count": 7,
   "id": "64685fcc",
   "metadata": {},
   "outputs": [],
   "source": [
    "# Remove the rows with NA values.\n",
    "df = df.dropna()\n",
    "\n",
    "#Remove speed outliers\n",
    "#df = df[~(df['Speed'] <= 0.5)] \n",
    "#df = df[~(df['Speed'] > 50)]\n",
    "\n",
    "#Remove Acceleration outliers\n",
    "#df = df[~(df['Acceleration'] <= -5)] \n",
    "#df = df[~(df['Acceleration'] > 4)]\n",
    "#df.shape"
   ]
  },
  {
   "cell_type": "code",
   "execution_count": 8,
   "id": "80d39638",
   "metadata": {},
   "outputs": [],
   "source": [
    "#array = np.array(df)\n",
    "#array.shape"
   ]
  },
  {
   "cell_type": "markdown",
   "id": "b1792143",
   "metadata": {},
   "source": [
    "### Split data into train and test"
   ]
  },
  {
   "cell_type": "code",
   "execution_count": 9,
   "id": "69023734",
   "metadata": {},
   "outputs": [
    {
     "name": "stdout",
     "output_type": "stream",
     "text": [
      "(65534, 4)\n",
      "(28086, 4)\n"
     ]
    }
   ],
   "source": [
    "# Split the data into 70% train and 30% test \n",
    "train_df, test_df =  train_test_split(df, test_size=0.3, random_state=42)\n",
    "\n",
    "print( train_df.shape )\n",
    "print( test_df.shape )"
   ]
  },
  {
   "cell_type": "code",
   "execution_count": 10,
   "id": "be3269f2",
   "metadata": {},
   "outputs": [
    {
     "name": "stdout",
     "output_type": "stream",
     "text": [
      "(65534,)\n",
      "(28086,)\n"
     ]
    }
   ],
   "source": [
    "train_labels = train_df.pop('Label')\n",
    "test_labels = test_df.pop('Label')\n",
    "\n",
    "print(train_labels.shape)\n",
    "print(test_labels.shape)\n"
   ]
  },
  {
   "cell_type": "markdown",
   "id": "570d00fb",
   "metadata": {},
   "source": [
    "### Data Normalization"
   ]
  },
  {
   "cell_type": "code",
   "execution_count": 11,
   "id": "23db6009",
   "metadata": {},
   "outputs": [
    {
     "data": {
      "text/html": [
       "<div>\n",
       "<style scoped>\n",
       "    .dataframe tbody tr th:only-of-type {\n",
       "        vertical-align: middle;\n",
       "    }\n",
       "\n",
       "    .dataframe tbody tr th {\n",
       "        vertical-align: top;\n",
       "    }\n",
       "\n",
       "    .dataframe thead th {\n",
       "        text-align: right;\n",
       "    }\n",
       "</style>\n",
       "<table border=\"1\" class=\"dataframe\">\n",
       "  <thead>\n",
       "    <tr style=\"text-align: right;\">\n",
       "      <th></th>\n",
       "      <th>count</th>\n",
       "      <th>mean</th>\n",
       "      <th>std</th>\n",
       "      <th>min</th>\n",
       "      <th>25%</th>\n",
       "      <th>50%</th>\n",
       "      <th>75%</th>\n",
       "      <th>max</th>\n",
       "    </tr>\n",
       "  </thead>\n",
       "  <tbody>\n",
       "    <tr>\n",
       "      <th>Speed</th>\n",
       "      <td>65534.0</td>\n",
       "      <td>34.366966</td>\n",
       "      <td>22.632251</td>\n",
       "      <td>0.0010</td>\n",
       "      <td>15.899000</td>\n",
       "      <td>32.0445</td>\n",
       "      <td>45.757000</td>\n",
       "      <td>86.9880</td>\n",
       "    </tr>\n",
       "    <tr>\n",
       "      <th>Acceleration</th>\n",
       "      <td>65534.0</td>\n",
       "      <td>0.290177</td>\n",
       "      <td>1.911935</td>\n",
       "      <td>-4.7989</td>\n",
       "      <td>-0.969075</td>\n",
       "      <td>0.6767</td>\n",
       "      <td>1.863300</td>\n",
       "      <td>2.9000</td>\n",
       "    </tr>\n",
       "    <tr>\n",
       "      <th>Heading</th>\n",
       "      <td>65534.0</td>\n",
       "      <td>31.548163</td>\n",
       "      <td>23.516633</td>\n",
       "      <td>0.0002</td>\n",
       "      <td>13.541625</td>\n",
       "      <td>27.0694</td>\n",
       "      <td>38.879975</td>\n",
       "      <td>92.9826</td>\n",
       "    </tr>\n",
       "  </tbody>\n",
       "</table>\n",
       "</div>"
      ],
      "text/plain": [
       "                count       mean        std     min        25%      50%  \\\n",
       "Speed         65534.0  34.366966  22.632251  0.0010  15.899000  32.0445   \n",
       "Acceleration  65534.0   0.290177   1.911935 -4.7989  -0.969075   0.6767   \n",
       "Heading       65534.0  31.548163  23.516633  0.0002  13.541625  27.0694   \n",
       "\n",
       "                    75%      max  \n",
       "Speed         45.757000  86.9880  \n",
       "Acceleration   1.863300   2.9000  \n",
       "Heading       38.879975  92.9826  "
      ]
     },
     "execution_count": 11,
     "metadata": {},
     "output_type": "execute_result"
    }
   ],
   "source": [
    "# Statistics on the train dataset to make sure it is in a good shape. (you may display the same stat for test and validate)\n",
    "train_stats = train_df.describe()\n",
    "train_stats = train_stats.transpose()\n",
    "train_stats"
   ]
  },
  {
   "cell_type": "code",
   "execution_count": 12,
   "id": "c37936e5",
   "metadata": {},
   "outputs": [],
   "source": [
    "# define a function to normalize the data set.\n",
    "def norm(x):\n",
    "    return (x - train_stats['mean']) / train_stats['std']\n",
    "normed_train_df = norm(train_df)\n",
    "normed_test_df = norm(test_df)"
   ]
  },
  {
   "cell_type": "code",
   "execution_count": 13,
   "id": "6215d614",
   "metadata": {},
   "outputs": [
    {
     "data": {
      "text/html": [
       "<div>\n",
       "<style scoped>\n",
       "    .dataframe tbody tr th:only-of-type {\n",
       "        vertical-align: middle;\n",
       "    }\n",
       "\n",
       "    .dataframe tbody tr th {\n",
       "        vertical-align: top;\n",
       "    }\n",
       "\n",
       "    .dataframe thead th {\n",
       "        text-align: right;\n",
       "    }\n",
       "</style>\n",
       "<table border=\"1\" class=\"dataframe\">\n",
       "  <thead>\n",
       "    <tr style=\"text-align: right;\">\n",
       "      <th></th>\n",
       "      <th>Speed</th>\n",
       "      <th>Acceleration</th>\n",
       "      <th>Heading</th>\n",
       "    </tr>\n",
       "  </thead>\n",
       "  <tbody>\n",
       "    <tr>\n",
       "      <th>44365</th>\n",
       "      <td>-1.158743</td>\n",
       "      <td>1.305495</td>\n",
       "      <td>-0.260070</td>\n",
       "    </tr>\n",
       "    <tr>\n",
       "      <th>19196</th>\n",
       "      <td>0.990535</td>\n",
       "      <td>1.084567</td>\n",
       "      <td>2.285992</td>\n",
       "    </tr>\n",
       "    <tr>\n",
       "      <th>7570</th>\n",
       "      <td>-1.300002</td>\n",
       "      <td>-0.332165</td>\n",
       "      <td>-1.188948</td>\n",
       "    </tr>\n",
       "    <tr>\n",
       "      <th>48678</th>\n",
       "      <td>-0.159594</td>\n",
       "      <td>-2.312514</td>\n",
       "      <td>0.094560</td>\n",
       "    </tr>\n",
       "    <tr>\n",
       "      <th>20812</th>\n",
       "      <td>1.804241</td>\n",
       "      <td>1.056271</td>\n",
       "      <td>2.503485</td>\n",
       "    </tr>\n",
       "    <tr>\n",
       "      <th>42767</th>\n",
       "      <td>0.197728</td>\n",
       "      <td>1.027505</td>\n",
       "      <td>-0.915572</td>\n",
       "    </tr>\n",
       "    <tr>\n",
       "      <th>17092</th>\n",
       "      <td>1.825715</td>\n",
       "      <td>1.217888</td>\n",
       "      <td>1.954508</td>\n",
       "    </tr>\n",
       "    <tr>\n",
       "      <th>90493</th>\n",
       "      <td>-0.660914</td>\n",
       "      <td>0.268745</td>\n",
       "      <td>-0.898044</td>\n",
       "    </tr>\n",
       "    <tr>\n",
       "      <th>48752</th>\n",
       "      <td>-1.238452</td>\n",
       "      <td>-1.167444</td>\n",
       "      <td>-1.223005</td>\n",
       "    </tr>\n",
       "    <tr>\n",
       "      <th>38470</th>\n",
       "      <td>1.631302</td>\n",
       "      <td>-0.096487</td>\n",
       "      <td>-0.442558</td>\n",
       "    </tr>\n",
       "  </tbody>\n",
       "</table>\n",
       "</div>"
      ],
      "text/plain": [
       "          Speed  Acceleration   Heading\n",
       "44365 -1.158743      1.305495 -0.260070\n",
       "19196  0.990535      1.084567  2.285992\n",
       "7570  -1.300002     -0.332165 -1.188948\n",
       "48678 -0.159594     -2.312514  0.094560\n",
       "20812  1.804241      1.056271  2.503485\n",
       "42767  0.197728      1.027505 -0.915572\n",
       "17092  1.825715      1.217888  1.954508\n",
       "90493 -0.660914      0.268745 -0.898044\n",
       "48752 -1.238452     -1.167444 -1.223005\n",
       "38470  1.631302     -0.096487 -0.442558"
      ]
     },
     "execution_count": 13,
     "metadata": {},
     "output_type": "execute_result"
    }
   ],
   "source": [
    "# show a sample of the data after normalized\n",
    "normed_train_df.head(10)"
   ]
  },
  {
   "cell_type": "markdown",
   "id": "40f8f0cd",
   "metadata": {},
   "source": [
    "### Training the model (poly)"
   ]
  },
  {
   "cell_type": "markdown",
   "id": "ceaa0c19",
   "metadata": {},
   "source": [
    "#Create a svm Classifier\n",
    "model = svm.SVC(C = 100, # reg paramater\n",
    "                kernel='poly', #kernel{‘linear’, ‘poly’, ‘rbf’, ‘sigmoid’, ‘precomputed’}, default=’rbf’\n",
    "               ) # Linear Kernel\n",
    "\n",
    "#Train the model using the training sets\n",
    "model.fit(train_df, train_labels)\n",
    "\n",
    "#Predict the response for test dataset\n",
    "y_pred_poly = model.predict(test_df)"
   ]
  },
  {
   "cell_type": "markdown",
   "id": "3de5273c",
   "metadata": {
    "scrolled": false
   },
   "source": [
    "#Check accuracy of the prediction\n",
    "print(\"Accuracy:\",metrics.accuracy_score(test_labels, y_pred_poly))"
   ]
  },
  {
   "cell_type": "markdown",
   "id": "642614f7",
   "metadata": {},
   "source": [
    "### Training the model (rbf) "
   ]
  },
  {
   "cell_type": "markdown",
   "id": "3eba6f17",
   "metadata": {},
   "source": [
    "#Create a svm Classifier\n",
    "model = svm.SVC(C = 100, # reg paramater\n",
    "                kernel='rbf', #kernel{‘linear’, ‘poly’, ‘rbf’, ‘sigmoid’, ‘precomputed’}, default=’rbf’\n",
    "               ) # Linear Kernel\n",
    "\n",
    "#Train the model using the training sets\n",
    "model.fit(train_df, train_labels)\n",
    "\n",
    "#Predict the response for test dataset\n",
    "y_pred_rbf = model.predict(test_df)"
   ]
  },
  {
   "cell_type": "markdown",
   "id": "6a20781a",
   "metadata": {},
   "source": [
    "print(\"Accuracy:\",metrics.accuracy_score(test_labels, y_pred_rbf))"
   ]
  },
  {
   "cell_type": "markdown",
   "id": "198e3ab9",
   "metadata": {},
   "source": [
    "y_pred_rbf_test = model.predict(normed_train_df)\n",
    "print(\"Accuracy:\",metrics.accuracy_score(test_labels, y_pred_rbf_test))"
   ]
  },
  {
   "cell_type": "markdown",
   "id": "2fe45cc8",
   "metadata": {},
   "source": [
    "### Training the model (rbf) Normed"
   ]
  },
  {
   "cell_type": "code",
   "execution_count": 14,
   "id": "58813fcb",
   "metadata": {},
   "outputs": [],
   "source": [
    "#Create a svm Classifier\n",
    "model = svm.SVC(C = 100, # reg paramater\n",
    "                kernel='rbf', #kernel{‘linear’, ‘poly’, ‘rbf’, ‘sigmoid’, ‘precomputed’}, default=’rbf’\n",
    "               ) # Linear Kernel\n",
    "\n",
    "#Train the model using the training sets\n",
    "model.fit(normed_train_df, train_labels)\n",
    "\n",
    "#Predict the response for test dataset\n",
    "y_pred = model.predict(normed_test_df)"
   ]
  },
  {
   "cell_type": "code",
   "execution_count": 37,
   "id": "817aba42",
   "metadata": {
    "scrolled": true
   },
   "outputs": [
    {
     "name": "stdout",
     "output_type": "stream",
     "text": [
      "Accuracy: 0.9423200170903653\n"
     ]
    }
   ],
   "source": [
    "print(\"Accuracy:\",metrics.accuracy_score(test_labels, y_pred))"
   ]
  },
  {
   "cell_type": "markdown",
   "id": "c67eaa95",
   "metadata": {},
   "source": [
    "# Driver Data"
   ]
  },
  {
   "cell_type": "code",
   "execution_count": 73,
   "id": "69c1a2f1",
   "metadata": {
    "scrolled": true
   },
   "outputs": [
    {
     "data": {
      "text/html": [
       "<div>\n",
       "<style scoped>\n",
       "    .dataframe tbody tr th:only-of-type {\n",
       "        vertical-align: middle;\n",
       "    }\n",
       "\n",
       "    .dataframe tbody tr th {\n",
       "        vertical-align: top;\n",
       "    }\n",
       "\n",
       "    .dataframe thead th {\n",
       "        text-align: right;\n",
       "    }\n",
       "</style>\n",
       "<table border=\"1\" class=\"dataframe\">\n",
       "  <thead>\n",
       "    <tr style=\"text-align: right;\">\n",
       "      <th></th>\n",
       "      <th>LOCAL DATE</th>\n",
       "      <th>LOCAL TIME</th>\n",
       "      <th>LATITUDE</th>\n",
       "      <th>N/S</th>\n",
       "      <th>LONGITUDE</th>\n",
       "      <th>E/W</th>\n",
       "      <th>SPEED</th>\n",
       "      <th>HEADING</th>\n",
       "      <th>DISTANCE</th>\n",
       "      <th>Speed</th>\n",
       "      <th>Acceleration</th>\n",
       "      <th>Heading</th>\n",
       "    </tr>\n",
       "  </thead>\n",
       "  <tbody>\n",
       "    <tr>\n",
       "      <th>0</th>\n",
       "      <td>2023/03/24</td>\n",
       "      <td>14:37:45</td>\n",
       "      <td>5.962556</td>\n",
       "      <td>N</td>\n",
       "      <td>80.665809</td>\n",
       "      <td>E</td>\n",
       "      <td>0.307 km/h</td>\n",
       "      <td>103.758041</td>\n",
       "      <td>125188.79 M</td>\n",
       "      <td>0.307</td>\n",
       "      <td>0.000000</td>\n",
       "      <td>0.000000</td>\n",
       "    </tr>\n",
       "    <tr>\n",
       "      <th>1</th>\n",
       "      <td>2023/03/24</td>\n",
       "      <td>14:37:46</td>\n",
       "      <td>5.962575</td>\n",
       "      <td>N</td>\n",
       "      <td>80.665828</td>\n",
       "      <td>E</td>\n",
       "      <td>0.537 km/h</td>\n",
       "      <td>103.758041</td>\n",
       "      <td>3.73 M</td>\n",
       "      <td>0.537</td>\n",
       "      <td>0.063889</td>\n",
       "      <td>0.000000</td>\n",
       "    </tr>\n",
       "    <tr>\n",
       "      <th>2</th>\n",
       "      <td>2023/03/24</td>\n",
       "      <td>14:37:47</td>\n",
       "      <td>5.962564</td>\n",
       "      <td>N</td>\n",
       "      <td>80.665809</td>\n",
       "      <td>E</td>\n",
       "      <td>0.244 km/h</td>\n",
       "      <td>103.758041</td>\n",
       "      <td>3.84 M</td>\n",
       "      <td>0.244</td>\n",
       "      <td>-0.081389</td>\n",
       "      <td>0.000000</td>\n",
       "    </tr>\n",
       "    <tr>\n",
       "      <th>3</th>\n",
       "      <td>2023/03/24</td>\n",
       "      <td>14:37:48</td>\n",
       "      <td>5.962558</td>\n",
       "      <td>N</td>\n",
       "      <td>80.665801</td>\n",
       "      <td>E</td>\n",
       "      <td>0.105 km/h</td>\n",
       "      <td>103.758041</td>\n",
       "      <td>1.27 M</td>\n",
       "      <td>0.105</td>\n",
       "      <td>-0.038611</td>\n",
       "      <td>0.000000</td>\n",
       "    </tr>\n",
       "    <tr>\n",
       "      <th>4</th>\n",
       "      <td>2023/03/24</td>\n",
       "      <td>14:37:49</td>\n",
       "      <td>5.962550</td>\n",
       "      <td>N</td>\n",
       "      <td>80.665782</td>\n",
       "      <td>E</td>\n",
       "      <td>0.072 km/h</td>\n",
       "      <td>103.758041</td>\n",
       "      <td>3.39 M</td>\n",
       "      <td>0.072</td>\n",
       "      <td>-0.009167</td>\n",
       "      <td>0.000000</td>\n",
       "    </tr>\n",
       "    <tr>\n",
       "      <th>...</th>\n",
       "      <td>...</td>\n",
       "      <td>...</td>\n",
       "      <td>...</td>\n",
       "      <td>...</td>\n",
       "      <td>...</td>\n",
       "      <td>...</td>\n",
       "      <td>...</td>\n",
       "      <td>...</td>\n",
       "      <td>...</td>\n",
       "      <td>...</td>\n",
       "      <td>...</td>\n",
       "      <td>...</td>\n",
       "    </tr>\n",
       "    <tr>\n",
       "      <th>44393</th>\n",
       "      <td>2023/03/24</td>\n",
       "      <td>17:46:51</td>\n",
       "      <td>5.962545</td>\n",
       "      <td>N</td>\n",
       "      <td>80.665886</td>\n",
       "      <td>E</td>\n",
       "      <td>1.315 km/h</td>\n",
       "      <td>144.077164</td>\n",
       "      <td>2.13 M</td>\n",
       "      <td>1.315</td>\n",
       "      <td>-0.007222</td>\n",
       "      <td>0.035126</td>\n",
       "    </tr>\n",
       "    <tr>\n",
       "      <th>44394</th>\n",
       "      <td>2023/03/24</td>\n",
       "      <td>17:46:52</td>\n",
       "      <td>5.962544</td>\n",
       "      <td>N</td>\n",
       "      <td>80.665889</td>\n",
       "      <td>E</td>\n",
       "      <td>0.258 km/h</td>\n",
       "      <td>144.077164</td>\n",
       "      <td>0.37 M</td>\n",
       "      <td>0.258</td>\n",
       "      <td>-0.293611</td>\n",
       "      <td>0.000000</td>\n",
       "    </tr>\n",
       "    <tr>\n",
       "      <th>44395</th>\n",
       "      <td>2023/03/24</td>\n",
       "      <td>17:46:53</td>\n",
       "      <td>5.962545</td>\n",
       "      <td>N</td>\n",
       "      <td>80.665889</td>\n",
       "      <td>E</td>\n",
       "      <td>1.442 km/h</td>\n",
       "      <td>144.077164</td>\n",
       "      <td>0.07 M</td>\n",
       "      <td>1.442</td>\n",
       "      <td>0.328889</td>\n",
       "      <td>0.000000</td>\n",
       "    </tr>\n",
       "    <tr>\n",
       "      <th>44396</th>\n",
       "      <td>2023/03/24</td>\n",
       "      <td>17:46:54</td>\n",
       "      <td>5.962546</td>\n",
       "      <td>N</td>\n",
       "      <td>80.665886</td>\n",
       "      <td>E</td>\n",
       "      <td>1.174 km/h</td>\n",
       "      <td>144.077164</td>\n",
       "      <td>0.40 M</td>\n",
       "      <td>1.174</td>\n",
       "      <td>-0.074444</td>\n",
       "      <td>0.000000</td>\n",
       "    </tr>\n",
       "    <tr>\n",
       "      <th>44397</th>\n",
       "      <td>2023/03/24</td>\n",
       "      <td>17:46:55</td>\n",
       "      <td>5.962546</td>\n",
       "      <td>N</td>\n",
       "      <td>80.665883</td>\n",
       "      <td>E</td>\n",
       "      <td>0.822 km/h</td>\n",
       "      <td>144.077164</td>\n",
       "      <td>0.32 M</td>\n",
       "      <td>0.822</td>\n",
       "      <td>-0.097778</td>\n",
       "      <td>0.000000</td>\n",
       "    </tr>\n",
       "  </tbody>\n",
       "</table>\n",
       "<p>44398 rows × 12 columns</p>\n",
       "</div>"
      ],
      "text/plain": [
       "        LOCAL DATE  LOCAL TIME   LATITUDE  N/S   LONGITUDE  E/W        SPEED  \\\n",
       "0       2023/03/24    14:37:45   5.962556    N   80.665809    E   0.307 km/h   \n",
       "1       2023/03/24    14:37:46   5.962575    N   80.665828    E   0.537 km/h   \n",
       "2       2023/03/24    14:37:47   5.962564    N   80.665809    E   0.244 km/h   \n",
       "3       2023/03/24    14:37:48   5.962558    N   80.665801    E   0.105 km/h   \n",
       "4       2023/03/24    14:37:49   5.962550    N   80.665782    E   0.072 km/h   \n",
       "...            ...         ...        ...  ...         ...  ...          ...   \n",
       "44393   2023/03/24    17:46:51   5.962545    N   80.665886    E   1.315 km/h   \n",
       "44394   2023/03/24    17:46:52   5.962544    N   80.665889    E   0.258 km/h   \n",
       "44395   2023/03/24    17:46:53   5.962545    N   80.665889    E   1.442 km/h   \n",
       "44396   2023/03/24    17:46:54   5.962546    N   80.665886    E   1.174 km/h   \n",
       "44397   2023/03/24    17:46:55   5.962546    N   80.665883    E   0.822 km/h   \n",
       "\n",
       "          HEADING      DISTANCE  Speed  Acceleration   Heading  \n",
       "0      103.758041   125188.79 M  0.307      0.000000  0.000000  \n",
       "1      103.758041        3.73 M  0.537      0.063889  0.000000  \n",
       "2      103.758041        3.84 M  0.244     -0.081389  0.000000  \n",
       "3      103.758041        1.27 M  0.105     -0.038611  0.000000  \n",
       "4      103.758041        3.39 M  0.072     -0.009167  0.000000  \n",
       "...           ...           ...    ...           ...       ...  \n",
       "44393  144.077164        2.13 M  1.315     -0.007222  0.035126  \n",
       "44394  144.077164        0.37 M  0.258     -0.293611  0.000000  \n",
       "44395  144.077164        0.07 M  1.442      0.328889  0.000000  \n",
       "44396  144.077164        0.40 M  1.174     -0.074444  0.000000  \n",
       "44397  144.077164        0.32 M  0.822     -0.097778  0.000000  \n",
       "\n",
       "[44398 rows x 12 columns]"
      ]
     },
     "execution_count": 73,
     "metadata": {},
     "output_type": "execute_result"
    }
   ],
   "source": [
    "#df1 = pd.read_csv(\"Mahinda.csv\")\n",
    "df1"
   ]
  },
  {
   "cell_type": "markdown",
   "id": "1a2b87a0",
   "metadata": {},
   "source": [
    "## Cleaning Data"
   ]
  },
  {
   "cell_type": "code",
   "execution_count": 74,
   "id": "1ac31d86",
   "metadata": {},
   "outputs": [
    {
     "data": {
      "text/plain": [
       "(31438, 12)"
      ]
     },
     "execution_count": 74,
     "metadata": {},
     "output_type": "execute_result"
    }
   ],
   "source": [
    "# Remove the rows with NA values.\n",
    "df1 = df1.dropna()\n",
    "\n",
    "#Remove speed outliers\n",
    "df1 = df1[~(df1['Speed'] <= 0.5)] \n",
    "df1 = df1[~(df1['Speed'] > 90)]\n",
    "\n",
    "#Remove Acceleration outliers\n",
    "df1 = df1[~(df1['Acceleration'] <= -5)] \n",
    "df1 = df1[~(df1['Acceleration'] > 4)]\n",
    "\n",
    "#Remove Heading outliers\n",
    "df1 = df1[~(df1['Heading'] > 95)] \n",
    "\n",
    "df1.shape"
   ]
  },
  {
   "cell_type": "code",
   "execution_count": 75,
   "id": "6f77401a",
   "metadata": {},
   "outputs": [
    {
     "data": {
      "text/plain": [
       "(31438, 3)"
      ]
     },
     "execution_count": 75,
     "metadata": {},
     "output_type": "execute_result"
    }
   ],
   "source": [
    "# Select only the applicable attribute columns\n",
    "columns = ['Speed','Acceleration', 'Heading']\n",
    "df1_selected = df1[columns]\n",
    "df1_selected.shape"
   ]
  },
  {
   "cell_type": "markdown",
   "id": "a82e167c",
   "metadata": {},
   "source": [
    "### Data Normalization"
   ]
  },
  {
   "cell_type": "code",
   "execution_count": 76,
   "id": "2b41f693",
   "metadata": {
    "scrolled": true
   },
   "outputs": [
    {
     "data": {
      "text/html": [
       "<div>\n",
       "<style scoped>\n",
       "    .dataframe tbody tr th:only-of-type {\n",
       "        vertical-align: middle;\n",
       "    }\n",
       "\n",
       "    .dataframe tbody tr th {\n",
       "        vertical-align: top;\n",
       "    }\n",
       "\n",
       "    .dataframe thead th {\n",
       "        text-align: right;\n",
       "    }\n",
       "</style>\n",
       "<table border=\"1\" class=\"dataframe\">\n",
       "  <thead>\n",
       "    <tr style=\"text-align: right;\">\n",
       "      <th></th>\n",
       "      <th>count</th>\n",
       "      <th>mean</th>\n",
       "      <th>std</th>\n",
       "      <th>min</th>\n",
       "      <th>25%</th>\n",
       "      <th>50%</th>\n",
       "      <th>75%</th>\n",
       "      <th>max</th>\n",
       "    </tr>\n",
       "  </thead>\n",
       "  <tbody>\n",
       "    <tr>\n",
       "      <th>Speed</th>\n",
       "      <td>31438.0</td>\n",
       "      <td>24.718789</td>\n",
       "      <td>14.364570</td>\n",
       "      <td>0.501000</td>\n",
       "      <td>13.574000</td>\n",
       "      <td>28.752000</td>\n",
       "      <td>36.228000</td>\n",
       "      <td>58.888000</td>\n",
       "    </tr>\n",
       "    <tr>\n",
       "      <th>Acceleration</th>\n",
       "      <td>31438.0</td>\n",
       "      <td>-0.001019</td>\n",
       "      <td>0.522739</td>\n",
       "      <td>-4.248333</td>\n",
       "      <td>-0.196111</td>\n",
       "      <td>0.007778</td>\n",
       "      <td>0.212778</td>\n",
       "      <td>3.930833</td>\n",
       "    </tr>\n",
       "    <tr>\n",
       "      <th>Heading</th>\n",
       "      <td>31438.0</td>\n",
       "      <td>3.283211</td>\n",
       "      <td>6.655603</td>\n",
       "      <td>0.000000</td>\n",
       "      <td>0.403564</td>\n",
       "      <td>1.281185</td>\n",
       "      <td>3.308433</td>\n",
       "      <td>94.017212</td>\n",
       "    </tr>\n",
       "  </tbody>\n",
       "</table>\n",
       "</div>"
      ],
      "text/plain": [
       "                count       mean        std       min        25%        50%  \\\n",
       "Speed         31438.0  24.718789  14.364570  0.501000  13.574000  28.752000   \n",
       "Acceleration  31438.0  -0.001019   0.522739 -4.248333  -0.196111   0.007778   \n",
       "Heading       31438.0   3.283211   6.655603  0.000000   0.403564   1.281185   \n",
       "\n",
       "                    75%        max  \n",
       "Speed         36.228000  58.888000  \n",
       "Acceleration   0.212778   3.930833  \n",
       "Heading        3.308433  94.017212  "
      ]
     },
     "execution_count": 76,
     "metadata": {},
     "output_type": "execute_result"
    }
   ],
   "source": [
    "# Statistics on the dataset\n",
    "df1_stats = df1_selected.describe()\n",
    "df1_stats = df1_stats.transpose()\n",
    "df1_stats"
   ]
  },
  {
   "cell_type": "code",
   "execution_count": 77,
   "id": "de69e115",
   "metadata": {},
   "outputs": [],
   "source": [
    "# normalize the data set.\n",
    "normed_df1 = norm(df1_selected)"
   ]
  },
  {
   "cell_type": "code",
   "execution_count": 78,
   "id": "4cfb29c8",
   "metadata": {},
   "outputs": [],
   "source": [
    "#Predict the response for dataset\n",
    "y_pred_driver = model.predict(normed_df1)"
   ]
  },
  {
   "cell_type": "code",
   "execution_count": 79,
   "id": "c20173bc",
   "metadata": {},
   "outputs": [
    {
     "data": {
      "text/plain": [
       "(31438, 13)"
      ]
     },
     "execution_count": 79,
     "metadata": {},
     "output_type": "execute_result"
    }
   ],
   "source": [
    "# Add a new column to the dataset called Labels\n",
    "df1['Labels'] = y_pred_driver\n",
    "df1.shape"
   ]
  },
  {
   "cell_type": "code",
   "execution_count": 80,
   "id": "725a3bbd",
   "metadata": {
    "scrolled": true
   },
   "outputs": [
    {
     "data": {
      "text/html": [
       "<div>\n",
       "<style scoped>\n",
       "    .dataframe tbody tr th:only-of-type {\n",
       "        vertical-align: middle;\n",
       "    }\n",
       "\n",
       "    .dataframe tbody tr th {\n",
       "        vertical-align: top;\n",
       "    }\n",
       "\n",
       "    .dataframe thead th {\n",
       "        text-align: right;\n",
       "    }\n",
       "</style>\n",
       "<table border=\"1\" class=\"dataframe\">\n",
       "  <thead>\n",
       "    <tr style=\"text-align: right;\">\n",
       "      <th></th>\n",
       "      <th>LOCAL DATE</th>\n",
       "      <th>LOCAL TIME</th>\n",
       "      <th>LATITUDE</th>\n",
       "      <th>N/S</th>\n",
       "      <th>LONGITUDE</th>\n",
       "      <th>E/W</th>\n",
       "      <th>SPEED</th>\n",
       "      <th>HEADING</th>\n",
       "      <th>DISTANCE</th>\n",
       "      <th>Speed</th>\n",
       "      <th>Acceleration</th>\n",
       "      <th>Heading</th>\n",
       "      <th>Labels</th>\n",
       "      <th>Index</th>\n",
       "    </tr>\n",
       "  </thead>\n",
       "  <tbody>\n",
       "    <tr>\n",
       "      <th>1</th>\n",
       "      <td>2023/03/24</td>\n",
       "      <td>14:37:46</td>\n",
       "      <td>5.962575</td>\n",
       "      <td>N</td>\n",
       "      <td>80.665828</td>\n",
       "      <td>E</td>\n",
       "      <td>0.537 km/h</td>\n",
       "      <td>103.758041</td>\n",
       "      <td>3.73 M</td>\n",
       "      <td>0.537</td>\n",
       "      <td>0.063889</td>\n",
       "      <td>0.000000</td>\n",
       "      <td>0</td>\n",
       "      <td>1</td>\n",
       "    </tr>\n",
       "    <tr>\n",
       "      <th>11</th>\n",
       "      <td>2023/03/24</td>\n",
       "      <td>14:37:56</td>\n",
       "      <td>5.962504</td>\n",
       "      <td>N</td>\n",
       "      <td>80.665729</td>\n",
       "      <td>E</td>\n",
       "      <td>0.504 km/h</td>\n",
       "      <td>103.758041</td>\n",
       "      <td>0.95 M</td>\n",
       "      <td>0.504</td>\n",
       "      <td>0.091944</td>\n",
       "      <td>0.000000</td>\n",
       "      <td>0</td>\n",
       "      <td>2</td>\n",
       "    </tr>\n",
       "    <tr>\n",
       "      <th>38</th>\n",
       "      <td>2023/03/24</td>\n",
       "      <td>14:38:23</td>\n",
       "      <td>5.962506</td>\n",
       "      <td>N</td>\n",
       "      <td>80.665723</td>\n",
       "      <td>E</td>\n",
       "      <td>0.706 km/h</td>\n",
       "      <td>103.758041</td>\n",
       "      <td>0.01 M</td>\n",
       "      <td>0.706</td>\n",
       "      <td>0.189722</td>\n",
       "      <td>0.000000</td>\n",
       "      <td>0</td>\n",
       "      <td>3</td>\n",
       "    </tr>\n",
       "    <tr>\n",
       "      <th>88</th>\n",
       "      <td>2023/03/24</td>\n",
       "      <td>14:39:13</td>\n",
       "      <td>5.962502</td>\n",
       "      <td>N</td>\n",
       "      <td>80.665728</td>\n",
       "      <td>E</td>\n",
       "      <td>0.553 km/h</td>\n",
       "      <td>103.758072</td>\n",
       "      <td>0.35 M</td>\n",
       "      <td>0.553</td>\n",
       "      <td>0.103611</td>\n",
       "      <td>0.000000</td>\n",
       "      <td>0</td>\n",
       "      <td>4</td>\n",
       "    </tr>\n",
       "    <tr>\n",
       "      <th>116</th>\n",
       "      <td>2023/03/24</td>\n",
       "      <td>14:39:41</td>\n",
       "      <td>5.962504</td>\n",
       "      <td>N</td>\n",
       "      <td>80.665721</td>\n",
       "      <td>E</td>\n",
       "      <td>4.742 km/h</td>\n",
       "      <td>352.405487</td>\n",
       "      <td>1.40 M</td>\n",
       "      <td>4.742</td>\n",
       "      <td>0.508889</td>\n",
       "      <td>1.528442</td>\n",
       "      <td>0</td>\n",
       "      <td>5</td>\n",
       "    </tr>\n",
       "    <tr>\n",
       "      <th>...</th>\n",
       "      <td>...</td>\n",
       "      <td>...</td>\n",
       "      <td>...</td>\n",
       "      <td>...</td>\n",
       "      <td>...</td>\n",
       "      <td>...</td>\n",
       "      <td>...</td>\n",
       "      <td>...</td>\n",
       "      <td>...</td>\n",
       "      <td>...</td>\n",
       "      <td>...</td>\n",
       "      <td>...</td>\n",
       "      <td>...</td>\n",
       "      <td>...</td>\n",
       "    </tr>\n",
       "    <tr>\n",
       "      <th>44392</th>\n",
       "      <td>2023/03/24</td>\n",
       "      <td>17:46:50</td>\n",
       "      <td>5.962543</td>\n",
       "      <td>N</td>\n",
       "      <td>80.665867</td>\n",
       "      <td>E</td>\n",
       "      <td>1.341 km/h</td>\n",
       "      <td>144.042038</td>\n",
       "      <td>0.98 M</td>\n",
       "      <td>1.341</td>\n",
       "      <td>-0.114722</td>\n",
       "      <td>0.683670</td>\n",
       "      <td>0</td>\n",
       "      <td>31434</td>\n",
       "    </tr>\n",
       "    <tr>\n",
       "      <th>44393</th>\n",
       "      <td>2023/03/24</td>\n",
       "      <td>17:46:51</td>\n",
       "      <td>5.962545</td>\n",
       "      <td>N</td>\n",
       "      <td>80.665886</td>\n",
       "      <td>E</td>\n",
       "      <td>1.315 km/h</td>\n",
       "      <td>144.077164</td>\n",
       "      <td>2.13 M</td>\n",
       "      <td>1.315</td>\n",
       "      <td>-0.007222</td>\n",
       "      <td>0.035126</td>\n",
       "      <td>0</td>\n",
       "      <td>31435</td>\n",
       "    </tr>\n",
       "    <tr>\n",
       "      <th>44395</th>\n",
       "      <td>2023/03/24</td>\n",
       "      <td>17:46:53</td>\n",
       "      <td>5.962545</td>\n",
       "      <td>N</td>\n",
       "      <td>80.665889</td>\n",
       "      <td>E</td>\n",
       "      <td>1.442 km/h</td>\n",
       "      <td>144.077164</td>\n",
       "      <td>0.07 M</td>\n",
       "      <td>1.442</td>\n",
       "      <td>0.328889</td>\n",
       "      <td>0.000000</td>\n",
       "      <td>0</td>\n",
       "      <td>31436</td>\n",
       "    </tr>\n",
       "    <tr>\n",
       "      <th>44396</th>\n",
       "      <td>2023/03/24</td>\n",
       "      <td>17:46:54</td>\n",
       "      <td>5.962546</td>\n",
       "      <td>N</td>\n",
       "      <td>80.665886</td>\n",
       "      <td>E</td>\n",
       "      <td>1.174 km/h</td>\n",
       "      <td>144.077164</td>\n",
       "      <td>0.40 M</td>\n",
       "      <td>1.174</td>\n",
       "      <td>-0.074444</td>\n",
       "      <td>0.000000</td>\n",
       "      <td>0</td>\n",
       "      <td>31437</td>\n",
       "    </tr>\n",
       "    <tr>\n",
       "      <th>44397</th>\n",
       "      <td>2023/03/24</td>\n",
       "      <td>17:46:55</td>\n",
       "      <td>5.962546</td>\n",
       "      <td>N</td>\n",
       "      <td>80.665883</td>\n",
       "      <td>E</td>\n",
       "      <td>0.822 km/h</td>\n",
       "      <td>144.077164</td>\n",
       "      <td>0.32 M</td>\n",
       "      <td>0.822</td>\n",
       "      <td>-0.097778</td>\n",
       "      <td>0.000000</td>\n",
       "      <td>0</td>\n",
       "      <td>31438</td>\n",
       "    </tr>\n",
       "  </tbody>\n",
       "</table>\n",
       "<p>31438 rows × 14 columns</p>\n",
       "</div>"
      ],
      "text/plain": [
       "        LOCAL DATE  LOCAL TIME   LATITUDE  N/S   LONGITUDE  E/W        SPEED  \\\n",
       "1       2023/03/24    14:37:46   5.962575    N   80.665828    E   0.537 km/h   \n",
       "11      2023/03/24    14:37:56   5.962504    N   80.665729    E   0.504 km/h   \n",
       "38      2023/03/24    14:38:23   5.962506    N   80.665723    E   0.706 km/h   \n",
       "88      2023/03/24    14:39:13   5.962502    N   80.665728    E   0.553 km/h   \n",
       "116     2023/03/24    14:39:41   5.962504    N   80.665721    E   4.742 km/h   \n",
       "...            ...         ...        ...  ...         ...  ...          ...   \n",
       "44392   2023/03/24    17:46:50   5.962543    N   80.665867    E   1.341 km/h   \n",
       "44393   2023/03/24    17:46:51   5.962545    N   80.665886    E   1.315 km/h   \n",
       "44395   2023/03/24    17:46:53   5.962545    N   80.665889    E   1.442 km/h   \n",
       "44396   2023/03/24    17:46:54   5.962546    N   80.665886    E   1.174 km/h   \n",
       "44397   2023/03/24    17:46:55   5.962546    N   80.665883    E   0.822 km/h   \n",
       "\n",
       "          HEADING  DISTANCE  Speed  Acceleration   Heading  Labels  Index  \n",
       "1      103.758041    3.73 M  0.537      0.063889  0.000000       0      1  \n",
       "11     103.758041    0.95 M  0.504      0.091944  0.000000       0      2  \n",
       "38     103.758041    0.01 M  0.706      0.189722  0.000000       0      3  \n",
       "88     103.758072    0.35 M  0.553      0.103611  0.000000       0      4  \n",
       "116    352.405487    1.40 M  4.742      0.508889  1.528442       0      5  \n",
       "...           ...       ...    ...           ...       ...     ...    ...  \n",
       "44392  144.042038    0.98 M  1.341     -0.114722  0.683670       0  31434  \n",
       "44393  144.077164    2.13 M  1.315     -0.007222  0.035126       0  31435  \n",
       "44395  144.077164    0.07 M  1.442      0.328889  0.000000       0  31436  \n",
       "44396  144.077164    0.40 M  1.174     -0.074444  0.000000       0  31437  \n",
       "44397  144.077164    0.32 M  0.822     -0.097778  0.000000       0  31438  \n",
       "\n",
       "[31438 rows x 14 columns]"
      ]
     },
     "execution_count": 80,
     "metadata": {},
     "output_type": "execute_result"
    }
   ],
   "source": [
    "#Add Index column\n",
    "indexs = np.arange(1,len(y_pred_driver)+1)\n",
    "df1['Index'] = indexs\n",
    "df1"
   ]
  },
  {
   "cell_type": "code",
   "execution_count": 81,
   "id": "b5850b57",
   "metadata": {},
   "outputs": [],
   "source": [
    "#df1.to_csv('Mahinda_output.csv', index=False)"
   ]
  },
  {
   "cell_type": "code",
   "execution_count": 82,
   "id": "2bd0f029",
   "metadata": {},
   "outputs": [
    {
     "name": "stdout",
     "output_type": "stream",
     "text": [
      "Not aggressive count: 30690\n",
      "Aggressive count: 748\n",
      "Totoal count: 31438\n",
      "Aggressive percentage: 2.3792862141357594\n"
     ]
    }
   ],
   "source": [
    "countN=0\n",
    "countA=0\n",
    "labels = df1['Labels']\n",
    "for i in labels:\n",
    "    if i==0:\n",
    "        countN+=1\n",
    "    if i==1:\n",
    "        countA+=1\n",
    "print(\"Not aggressive count:\",countN)\n",
    "print(\"Aggressive count:\",countA)\n",
    "print(\"Totoal count:\",countN+countA)\n",
    "\n",
    "print(\"Aggressive percentage:\",countA/(countN+countA)*100)"
   ]
  },
  {
   "cell_type": "code",
   "execution_count": null,
   "id": "6ffe1555",
   "metadata": {},
   "outputs": [],
   "source": []
  }
 ],
 "metadata": {
  "kernelspec": {
   "display_name": "Python 3 (ipykernel)",
   "language": "python",
   "name": "python3"
  },
  "language_info": {
   "codemirror_mode": {
    "name": "ipython",
    "version": 3
   },
   "file_extension": ".py",
   "mimetype": "text/x-python",
   "name": "python",
   "nbconvert_exporter": "python",
   "pygments_lexer": "ipython3",
   "version": "3.9.13"
  }
 },
 "nbformat": 4,
 "nbformat_minor": 5
}
